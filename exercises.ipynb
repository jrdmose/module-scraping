{
 "cells": [
  {
   "cell_type": "code",
   "execution_count": 1,
   "metadata": {
    "autoscroll": false,
    "ein.hycell": false,
    "ein.tags": "worksheet-0",
    "slideshow": {
     "slide_type": "-"
    }
   },
   "outputs": [],
   "source": [
    "# Our jupyter/datascience-notebook Docker container comes with \n",
    "# BeautifulSoup4 and requests, both popular libraries!\n",
    "\n",
    "from bs4 import BeautifulSoup\n",
    "import requests"
   ]
  },
  {
   "cell_type": "code",
   "execution_count": 12,
   "metadata": {
    "autoscroll": false,
    "ein.hycell": false,
    "ein.tags": "worksheet-0",
    "slideshow": {
     "slide_type": "-"
    }
   },
   "outputs": [],
   "source": [
    "START_URL = 'https://brickset.com/sets/year-2016'"
   ]
  },
  {
   "cell_type": "code",
   "execution_count": 24,
   "metadata": {
    "autoscroll": false,
    "ein.hycell": false,
    "ein.tags": "worksheet-0",
    "slideshow": {
     "slide_type": "-"
    }
   },
   "outputs": [],
   "source": [
    "def get_next_page_soup (currentsoup):\n",
    "    \"\"\"Returns the url of next page\"\"\"\n",
    "    #currentsoup is type sbeautifulsoup object\n",
    "    #looks in the web page and returns next page url if exists, otherwise returns a blank string    \n",
    "    url = currentsoup.select(\".next\")[0].a\n",
    "    \n",
    "    if url:\n",
    "        return url[\"href\"]\n",
    "    else:\n",
    "        return \"\"\n",
    "\n",
    "\n",
    "def get_titles(soup):    \n",
    "    \"\"\" Returns a list of titles on the page \"\"\"\n",
    "    \n",
    "    bricks=[]\n",
    "    #find all tags div that have class name as meta and get firs a tag title.\n",
    "    for meta in soup.select('.meta'):\n",
    "        meta_tag = meta.h1.a\n",
    "        bricks.append(meta_tag.text)\n",
    "    #returns a list with all the a tag titles.\n",
    "    return bricks\n",
    "\n",
    "\n",
    "def get_parsed_html(url):    \n",
    "    \"\"\" returns the parsed html url \"\"\"\n",
    "    r = requests.get(url)\n",
    "    return BeautifulSoup(r.text, 'html.parser')\n",
    "    \n",
    "\n",
    "def parse_bricks(url):\n",
    "    \"\"\"get all items in all the pages of the url\"\"\"\n",
    "    \n",
    "    bricks = []\n",
    "    #the breaking condition is that we get a blank url which will be the case when we get to the last page of the website\n",
    "    while url :\n",
    "        #get a parsed html code from the website\n",
    "        soup = get_parsed_html(url)\n",
    "        #find all items in the page of the website and include them in a list\n",
    "        bricks.extend(get_titles(soup))\n",
    "        #get the next page url if possible, otherwise return a blank string.\n",
    "        url = get_next_page_soup(soup)\n",
    "    return bricks"
   ]
  },
  {
   "cell_type": "code",
   "execution_count": 22,
   "metadata": {
    "autoscroll": false,
    "ein.hycell": false,
    "ein.tags": "worksheet-0",
    "slideshow": {
     "slide_type": "-"
    }
   },
   "outputs": [
    {
     "name": "stdout",
     "output_type": "stream",
     "text": [
      "10251:  Brick Bank\n"
     ]
    }
   ],
   "source": [
    "bricks = parse_bricks(START_URL)"
   ]
  },
  {
   "cell_type": "code",
   "execution_count": 25,
   "metadata": {
    "autoscroll": false,
    "ein.hycell": false,
    "ein.tags": "worksheet-0",
    "slideshow": {
     "slide_type": "-"
    }
   },
   "outputs": [],
   "source": [
    "assert(bricks[0] == '10251:  Brick Bank')\n",
    "assert(bricks[9] == '10722:  Snake Showdown')"
   ]
  }
 ],
 "metadata": {
  "kernelspec": {
   "display_name": "Python 3",
   "language": "python",
   "name": "python3"
  },
  "language_info": {
   "codemirror_mode": {
    "name": "ipython",
    "version": 3
   },
   "file_extension": ".py",
   "mimetype": "text/x-python",
   "name": "python",
   "nbconvert_exporter": "python",
   "pygments_lexer": "ipython3",
   "version": "3.6.6"
  },
  "name": "exercises.ipynb",
  "varInspector": {
   "cols": {
    "lenName": 16,
    "lenType": 16,
    "lenVar": 40
   },
   "kernels_config": {
    "python": {
     "delete_cmd_postfix": "",
     "delete_cmd_prefix": "del ",
     "library": "var_list.py",
     "varRefreshCmd": "print(var_dic_list())"
    },
    "r": {
     "delete_cmd_postfix": ") ",
     "delete_cmd_prefix": "rm(",
     "library": "var_list.r",
     "varRefreshCmd": "cat(var_dic_list()) "
    }
   },
   "types_to_exclude": [
    "module",
    "function",
    "builtin_function_or_method",
    "instance",
    "_Feature"
   ],
   "window_display": false
  }
 },
 "nbformat": 4,
 "nbformat_minor": 2
}
